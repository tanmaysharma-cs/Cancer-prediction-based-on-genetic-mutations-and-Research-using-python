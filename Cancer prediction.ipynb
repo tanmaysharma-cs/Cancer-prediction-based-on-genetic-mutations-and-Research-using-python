{
 "cells": [
  {
   "cell_type": "code",
   "execution_count": 1,
   "id": "40fd87ed",
   "metadata": {},
   "outputs": [],
   "source": [
    "import pandas as pd\n",
    "import numpy as np\n",
    "import matplotlib.pyplot as plt\n",
    "import re\n",
    "import string as Str\n",
    "from nltk.corpus import stopwords\n",
    "from sklearn.decomposition import TruncatedSVD\n",
    "from sklearn.preprocessing import normalize\n",
    "from sklearn.feature_extraction.text import CountVectorizer,TfidfVectorizer\n",
    "from sklearn.manifold import TSNE\n",
    "import seaborn as sns\n",
    "from sklearn.neighbors import KNeighborsClassifier\n",
    "from sklearn.metrics import confusion_matrix\n",
    "from sklearn.metrics import log_loss,confusion_matrix,accuracy_score\n",
    "from sklearn.linear_model import SGDClassifier\n",
    "from sklearn.dummy import DummyClassifier\n",
    "from scipy.sparse import csr\n",
    "from scipy.sparse import hstack\n",
    "\n",
    "from sklearn.multiclass import OneVsRestClassifier\n",
    "from sklearn.svm import SVC\n",
    "from sklearn.model_selection import StratifiedKFold \n",
    "from collections import Counter, defaultdict\n",
    "\n",
    "from sklearn.calibration import CalibratedClassifierCV\n",
    "from sklearn.naive_bayes import MultinomialNB\n",
    "from sklearn.naive_bayes import GaussianNB\n",
    "from sklearn.model_selection import train_test_split\n",
    "from sklearn.model_selection import GridSearchCV\n",
    "import math\n",
    "from sklearn.metrics import normalized_mutual_info_score\n",
    "from sklearn.ensemble import RandomForestClassifier\n",
    "#from mlxtend.classifier import StackingClassifier\n",
    "\n",
    "from sklearn import model_selection\n",
    "from sklearn.linear_model import LogisticRegression\n"
   ]
  },
  {
   "cell_type": "code",
   "execution_count": 2,
   "id": "656017f7",
   "metadata": {},
   "outputs": [
    {
     "name": "stdout",
     "output_type": "stream",
     "text": [
      "Number of data points : 3321\n",
      "Number of features : 4\n",
      "Features : ['ID' 'Gene' 'Variation' 'Class']\n"
     ]
    },
    {
     "data": {
      "text/html": [
       "<div>\n",
       "<style scoped>\n",
       "    .dataframe tbody tr th:only-of-type {\n",
       "        vertical-align: middle;\n",
       "    }\n",
       "\n",
       "    .dataframe tbody tr th {\n",
       "        vertical-align: top;\n",
       "    }\n",
       "\n",
       "    .dataframe thead th {\n",
       "        text-align: right;\n",
       "    }\n",
       "</style>\n",
       "<table border=\"1\" class=\"dataframe\">\n",
       "  <thead>\n",
       "    <tr style=\"text-align: right;\">\n",
       "      <th></th>\n",
       "      <th>ID</th>\n",
       "      <th>Gene</th>\n",
       "      <th>Variation</th>\n",
       "      <th>Class</th>\n",
       "    </tr>\n",
       "  </thead>\n",
       "  <tbody>\n",
       "    <tr>\n",
       "      <th>0</th>\n",
       "      <td>0</td>\n",
       "      <td>FAM58A</td>\n",
       "      <td>Truncating Mutations</td>\n",
       "      <td>1</td>\n",
       "    </tr>\n",
       "    <tr>\n",
       "      <th>1</th>\n",
       "      <td>1</td>\n",
       "      <td>CBL</td>\n",
       "      <td>W802*</td>\n",
       "      <td>2</td>\n",
       "    </tr>\n",
       "    <tr>\n",
       "      <th>2</th>\n",
       "      <td>2</td>\n",
       "      <td>CBL</td>\n",
       "      <td>Q249E</td>\n",
       "      <td>2</td>\n",
       "    </tr>\n",
       "    <tr>\n",
       "      <th>3</th>\n",
       "      <td>3</td>\n",
       "      <td>CBL</td>\n",
       "      <td>N454D</td>\n",
       "      <td>3</td>\n",
       "    </tr>\n",
       "    <tr>\n",
       "      <th>4</th>\n",
       "      <td>4</td>\n",
       "      <td>CBL</td>\n",
       "      <td>L399V</td>\n",
       "      <td>4</td>\n",
       "    </tr>\n",
       "  </tbody>\n",
       "</table>\n",
       "</div>"
      ],
      "text/plain": [
       "   ID    Gene             Variation  Class\n",
       "0   0  FAM58A  Truncating Mutations      1\n",
       "1   1     CBL                 W802*      2\n",
       "2   2     CBL                 Q249E      2\n",
       "3   3     CBL                 N454D      3\n",
       "4   4     CBL                 L399V      4"
      ]
     },
     "execution_count": 2,
     "metadata": {},
     "output_type": "execute_result"
    }
   ],
   "source": [
    "data = pd.read_csv(\"training_variants\")\n",
    "print(\"Number of data points :\" ,data.shape[0])\n",
    "print(\"Number of features :\",data.shape[1])\n",
    "print(\"Features :\" ,data.columns.values)\n",
    "data.head()"
   ]
  },
  {
   "cell_type": "code",
   "execution_count": 3,
   "id": "bf62674d",
   "metadata": {},
   "outputs": [
    {
     "name": "stdout",
     "output_type": "stream",
     "text": [
      "Nummber of data points:  3321\n",
      "Number of Features:  4\n",
      "Features : ['ID' 'Gene' 'Variation' 'Class']\n"
     ]
    },
    {
     "data": {
      "text/html": [
       "<div>\n",
       "<style scoped>\n",
       "    .dataframe tbody tr th:only-of-type {\n",
       "        vertical-align: middle;\n",
       "    }\n",
       "\n",
       "    .dataframe tbody tr th {\n",
       "        vertical-align: top;\n",
       "    }\n",
       "\n",
       "    .dataframe thead th {\n",
       "        text-align: right;\n",
       "    }\n",
       "</style>\n",
       "<table border=\"1\" class=\"dataframe\">\n",
       "  <thead>\n",
       "    <tr style=\"text-align: right;\">\n",
       "      <th></th>\n",
       "      <th>ID</th>\n",
       "      <th>Gene</th>\n",
       "      <th>Variation</th>\n",
       "      <th>Class</th>\n",
       "    </tr>\n",
       "  </thead>\n",
       "  <tbody>\n",
       "    <tr>\n",
       "      <th>0</th>\n",
       "      <td>0</td>\n",
       "      <td>FAM58A</td>\n",
       "      <td>Truncating Mutations</td>\n",
       "      <td>1</td>\n",
       "    </tr>\n",
       "    <tr>\n",
       "      <th>1</th>\n",
       "      <td>1</td>\n",
       "      <td>CBL</td>\n",
       "      <td>W802*</td>\n",
       "      <td>2</td>\n",
       "    </tr>\n",
       "    <tr>\n",
       "      <th>2</th>\n",
       "      <td>2</td>\n",
       "      <td>CBL</td>\n",
       "      <td>Q249E</td>\n",
       "      <td>2</td>\n",
       "    </tr>\n",
       "    <tr>\n",
       "      <th>3</th>\n",
       "      <td>3</td>\n",
       "      <td>CBL</td>\n",
       "      <td>N454D</td>\n",
       "      <td>3</td>\n",
       "    </tr>\n",
       "    <tr>\n",
       "      <th>4</th>\n",
       "      <td>4</td>\n",
       "      <td>CBL</td>\n",
       "      <td>L399V</td>\n",
       "      <td>4</td>\n",
       "    </tr>\n",
       "  </tbody>\n",
       "</table>\n",
       "</div>"
      ],
      "text/plain": [
       "   ID    Gene             Variation  Class\n",
       "0   0  FAM58A  Truncating Mutations      1\n",
       "1   1     CBL                 W802*      2\n",
       "2   2     CBL                 Q249E      2\n",
       "3   3     CBL                 N454D      3\n",
       "4   4     CBL                 L399V      4"
      ]
     },
     "execution_count": 3,
     "metadata": {},
     "output_type": "execute_result"
    }
   ],
   "source": [
    "data_text = pd.read_csv(\"training_text\" , sep = \"\\|\\|\",engine = \"python\" , names = [\"ID\",\"TEXT\"] , skiprows = 1)\n",
    "print(\"Nummber of data points: \",data.shape[0])\n",
    "print(\"Number of Features: \",data.shape[1])\n",
    "print(\"Features :\",data.columns.values)\n",
    "data.head()\n",
    "data.head()"
   ]
  },
  {
   "cell_type": "code",
   "execution_count": 4,
   "id": "5ba46f6c",
   "metadata": {},
   "outputs": [],
   "source": [
    "stop_words = set(stopwords.words(\"english\"))"
   ]
  },
  {
   "cell_type": "code",
   "execution_count": 5,
   "id": "761f436a",
   "metadata": {},
   "outputs": [],
   "source": [
    "def nlp_preprocessing(total_text,index,column):\n",
    "    if type(total_text) is not int:\n",
    "        string = \"\"\n",
    "    \n",
    "    total_text = re.sub('[^a-zA-Z0-9\\n]',' ',total_text)\n",
    "    \n",
    "    total_text = re.sub('\\s+',' ',total_text)\n",
    "    \n",
    "    total_text = total_text.lower()\n",
    "    \n",
    "    for word in total_text.split():\n",
    "        if word not in stop_words:\n",
    "            string+= word + \" \"\n",
    "            \n",
    "    data_text[column][index] = string\n",
    "    "
   ]
  },
  {
   "cell_type": "code",
   "execution_count": 6,
   "id": "937f4ba7",
   "metadata": {},
   "outputs": [
    {
     "name": "stderr",
     "output_type": "stream",
     "text": [
      "<ipython-input-5-8f7561b6ae40>:15: SettingWithCopyWarning: \n",
      "A value is trying to be set on a copy of a slice from a DataFrame\n",
      "\n",
      "See the caveats in the documentation: https://pandas.pydata.org/pandas-docs/stable/user_guide/indexing.html#returning-a-view-versus-a-copy\n",
      "  data_text[column][index] = string\n"
     ]
    },
    {
     "name": "stdout",
     "output_type": "stream",
     "text": [
      "There is no text description for id : 1109\n",
      "There is no text description for id : 1277\n",
      "There is no text description for id : 1407\n",
      "There is no text description for id : 1639\n",
      "There is no text description for id : 2755\n"
     ]
    }
   ],
   "source": [
    "for index,row in data_text.iterrows():\n",
    "    if type(row['TEXT']) == str:\n",
    "        nlp_preprocessing(row['TEXT'] , index , 'TEXT' )\n",
    "    else:\n",
    "        print(\"There is no text description for id :\" , index)\n",
    "\n",
    "    "
   ]
  },
  {
   "cell_type": "code",
   "execution_count": 7,
   "id": "a2df1995",
   "metadata": {},
   "outputs": [],
   "source": [
    "#merging both gene_variations and text data based on ID\n",
    "result = pd.merge(data , data_text , on = \"ID\" , how = \"left\")"
   ]
  },
  {
   "cell_type": "code",
   "execution_count": 8,
   "id": "1dbb95cf",
   "metadata": {},
   "outputs": [
    {
     "data": {
      "text/html": [
       "<div>\n",
       "<style scoped>\n",
       "    .dataframe tbody tr th:only-of-type {\n",
       "        vertical-align: middle;\n",
       "    }\n",
       "\n",
       "    .dataframe tbody tr th {\n",
       "        vertical-align: top;\n",
       "    }\n",
       "\n",
       "    .dataframe thead th {\n",
       "        text-align: right;\n",
       "    }\n",
       "</style>\n",
       "<table border=\"1\" class=\"dataframe\">\n",
       "  <thead>\n",
       "    <tr style=\"text-align: right;\">\n",
       "      <th></th>\n",
       "      <th>ID</th>\n",
       "      <th>Gene</th>\n",
       "      <th>Variation</th>\n",
       "      <th>Class</th>\n",
       "      <th>TEXT</th>\n",
       "    </tr>\n",
       "  </thead>\n",
       "  <tbody>\n",
       "    <tr>\n",
       "      <th>0</th>\n",
       "      <td>0</td>\n",
       "      <td>FAM58A</td>\n",
       "      <td>Truncating Mutations</td>\n",
       "      <td>1</td>\n",
       "      <td>cyclin dependent kinases cdks regulate variety...</td>\n",
       "    </tr>\n",
       "    <tr>\n",
       "      <th>1</th>\n",
       "      <td>1</td>\n",
       "      <td>CBL</td>\n",
       "      <td>W802*</td>\n",
       "      <td>2</td>\n",
       "      <td>abstract background non small cell lung cancer...</td>\n",
       "    </tr>\n",
       "    <tr>\n",
       "      <th>2</th>\n",
       "      <td>2</td>\n",
       "      <td>CBL</td>\n",
       "      <td>Q249E</td>\n",
       "      <td>2</td>\n",
       "      <td>abstract background non small cell lung cancer...</td>\n",
       "    </tr>\n",
       "    <tr>\n",
       "      <th>3</th>\n",
       "      <td>3</td>\n",
       "      <td>CBL</td>\n",
       "      <td>N454D</td>\n",
       "      <td>3</td>\n",
       "      <td>recent evidence demonstrated acquired uniparen...</td>\n",
       "    </tr>\n",
       "    <tr>\n",
       "      <th>4</th>\n",
       "      <td>4</td>\n",
       "      <td>CBL</td>\n",
       "      <td>L399V</td>\n",
       "      <td>4</td>\n",
       "      <td>oncogenic mutations monomeric casitas b lineag...</td>\n",
       "    </tr>\n",
       "  </tbody>\n",
       "</table>\n",
       "</div>"
      ],
      "text/plain": [
       "   ID    Gene             Variation  Class  \\\n",
       "0   0  FAM58A  Truncating Mutations      1   \n",
       "1   1     CBL                 W802*      2   \n",
       "2   2     CBL                 Q249E      2   \n",
       "3   3     CBL                 N454D      3   \n",
       "4   4     CBL                 L399V      4   \n",
       "\n",
       "                                                TEXT  \n",
       "0  cyclin dependent kinases cdks regulate variety...  \n",
       "1  abstract background non small cell lung cancer...  \n",
       "2  abstract background non small cell lung cancer...  \n",
       "3  recent evidence demonstrated acquired uniparen...  \n",
       "4  oncogenic mutations monomeric casitas b lineag...  "
      ]
     },
     "execution_count": 8,
     "metadata": {},
     "output_type": "execute_result"
    }
   ],
   "source": [
    "result.head()"
   ]
  },
  {
   "cell_type": "code",
   "execution_count": 9,
   "id": "0628d924",
   "metadata": {},
   "outputs": [
    {
     "data": {
      "text/plain": [
       "ID           0\n",
       "Gene         0\n",
       "Variation    0\n",
       "Class        0\n",
       "TEXT         5\n",
       "dtype: int64"
      ]
     },
     "execution_count": 9,
     "metadata": {},
     "output_type": "execute_result"
    }
   ],
   "source": [
    "result.isnull().sum()"
   ]
  },
  {
   "cell_type": "code",
   "execution_count": 10,
   "id": "224be4da",
   "metadata": {},
   "outputs": [
    {
     "data": {
      "text/html": [
       "<div>\n",
       "<style scoped>\n",
       "    .dataframe tbody tr th:only-of-type {\n",
       "        vertical-align: middle;\n",
       "    }\n",
       "\n",
       "    .dataframe tbody tr th {\n",
       "        vertical-align: top;\n",
       "    }\n",
       "\n",
       "    .dataframe thead th {\n",
       "        text-align: right;\n",
       "    }\n",
       "</style>\n",
       "<table border=\"1\" class=\"dataframe\">\n",
       "  <thead>\n",
       "    <tr style=\"text-align: right;\">\n",
       "      <th></th>\n",
       "      <th>ID</th>\n",
       "      <th>Gene</th>\n",
       "      <th>Variation</th>\n",
       "      <th>Class</th>\n",
       "      <th>TEXT</th>\n",
       "    </tr>\n",
       "  </thead>\n",
       "  <tbody>\n",
       "    <tr>\n",
       "      <th>1109</th>\n",
       "      <td>1109</td>\n",
       "      <td>FANCA</td>\n",
       "      <td>S1088F</td>\n",
       "      <td>1</td>\n",
       "      <td>NaN</td>\n",
       "    </tr>\n",
       "    <tr>\n",
       "      <th>1277</th>\n",
       "      <td>1277</td>\n",
       "      <td>ARID5B</td>\n",
       "      <td>Truncating Mutations</td>\n",
       "      <td>1</td>\n",
       "      <td>NaN</td>\n",
       "    </tr>\n",
       "    <tr>\n",
       "      <th>1407</th>\n",
       "      <td>1407</td>\n",
       "      <td>FGFR3</td>\n",
       "      <td>K508M</td>\n",
       "      <td>6</td>\n",
       "      <td>NaN</td>\n",
       "    </tr>\n",
       "    <tr>\n",
       "      <th>1639</th>\n",
       "      <td>1639</td>\n",
       "      <td>FLT1</td>\n",
       "      <td>Amplification</td>\n",
       "      <td>6</td>\n",
       "      <td>NaN</td>\n",
       "    </tr>\n",
       "    <tr>\n",
       "      <th>2755</th>\n",
       "      <td>2755</td>\n",
       "      <td>BRAF</td>\n",
       "      <td>G596C</td>\n",
       "      <td>7</td>\n",
       "      <td>NaN</td>\n",
       "    </tr>\n",
       "  </tbody>\n",
       "</table>\n",
       "</div>"
      ],
      "text/plain": [
       "        ID    Gene             Variation  Class TEXT\n",
       "1109  1109   FANCA                S1088F      1  NaN\n",
       "1277  1277  ARID5B  Truncating Mutations      1  NaN\n",
       "1407  1407   FGFR3                 K508M      6  NaN\n",
       "1639  1639    FLT1         Amplification      6  NaN\n",
       "2755  2755    BRAF                 G596C      7  NaN"
      ]
     },
     "execution_count": 10,
     "metadata": {},
     "output_type": "execute_result"
    }
   ],
   "source": [
    "#printing the null rows\n",
    "result[result.isnull().any(axis=1)]"
   ]
  },
  {
   "cell_type": "code",
   "execution_count": 11,
   "id": "329dbf9a",
   "metadata": {},
   "outputs": [],
   "source": [
    "result.loc[result[\"TEXT\"].isnull(),'TEXT'] = result['Gene'] + ' ' + result['Variation']"
   ]
  },
  {
   "cell_type": "code",
   "execution_count": 12,
   "id": "2e0de6fd",
   "metadata": {},
   "outputs": [
    {
     "data": {
      "text/html": [
       "<div>\n",
       "<style scoped>\n",
       "    .dataframe tbody tr th:only-of-type {\n",
       "        vertical-align: middle;\n",
       "    }\n",
       "\n",
       "    .dataframe tbody tr th {\n",
       "        vertical-align: top;\n",
       "    }\n",
       "\n",
       "    .dataframe thead th {\n",
       "        text-align: right;\n",
       "    }\n",
       "</style>\n",
       "<table border=\"1\" class=\"dataframe\">\n",
       "  <thead>\n",
       "    <tr style=\"text-align: right;\">\n",
       "      <th></th>\n",
       "      <th>ID</th>\n",
       "      <th>Gene</th>\n",
       "      <th>Variation</th>\n",
       "      <th>Class</th>\n",
       "      <th>TEXT</th>\n",
       "    </tr>\n",
       "  </thead>\n",
       "  <tbody>\n",
       "    <tr>\n",
       "      <th>1109</th>\n",
       "      <td>1109</td>\n",
       "      <td>FANCA</td>\n",
       "      <td>S1088F</td>\n",
       "      <td>1</td>\n",
       "      <td>FANCA S1088F</td>\n",
       "    </tr>\n",
       "  </tbody>\n",
       "</table>\n",
       "</div>"
      ],
      "text/plain": [
       "        ID   Gene Variation  Class          TEXT\n",
       "1109  1109  FANCA    S1088F      1  FANCA S1088F"
      ]
     },
     "execution_count": 12,
     "metadata": {},
     "output_type": "execute_result"
    }
   ],
   "source": [
    "result[result['ID']==1109]"
   ]
  },
  {
   "cell_type": "markdown",
   "id": "b53ba49f",
   "metadata": {},
   "source": [
    "## Train Test Split"
   ]
  },
  {
   "cell_type": "code",
   "execution_count": 13,
   "id": "ade55014",
   "metadata": {},
   "outputs": [],
   "source": [
    "y_true = result[\"Class\"].values\n",
    "\n",
    "result.Gene = result.Gene.str.replace('\\s+' , '_' , regex = True)\n",
    "result.Variation = result.Variation.str.replace('\\s+' , '_' , regex = True)\n",
    "\n",
    "X_train , test_df , y_train , y_test = train_test_split(result , y_true , stratify = y_true , test_size = 0.2 )\n",
    "\n",
    "#cross validation\n",
    "train_df , cv_df , y_train , y_cv = train_test_split(X_train , y_train , stratify = y_train , test_size = 0.2)\n",
    "\n"
   ]
  },
  {
   "cell_type": "markdown",
   "id": "59cf2dfb",
   "metadata": {},
   "source": [
    "#### We split the data into train, test and cross validation data sets, preserving the ratio of class distribution in the original data set"
   ]
  },
  {
   "cell_type": "code",
   "execution_count": 14,
   "id": "7a176782",
   "metadata": {},
   "outputs": [
    {
     "name": "stdout",
     "output_type": "stream",
     "text": [
      "NUmber of data points in train data :2124\n",
      "The number of data points in test data:665\n",
      "The number of data points in cv data:532\n"
     ]
    }
   ],
   "source": [
    "print(\"NUmber of data points in train data :{}\\nThe number of data points in test data:{}\\nThe number of data points in cv data:{}\".format(train_df.shape[0],test_df.shape[0],cv_df.shape[0]))                     "
   ]
  },
  {
   "cell_type": "code",
   "execution_count": 15,
   "id": "decac828",
   "metadata": {},
   "outputs": [
    {
     "data": {
      "image/png": "[encoded data removed]",
      "text/plain": [
       "<Figure size 432x288 with 1 Axes>"
      ]
     },
     "metadata": {
      "needs_background": "light"
     },
     "output_type": "display_data"
    },
    {
     "data": {
      "image/png": "[encoded data removed]",
      "text/plain": [
       "<Figure size 432x288 with 1 Axes>"
      ]
     },
     "metadata": {
      "needs_background": "light"
     },
     "output_type": "display_data"
    },
    {
     "data": {
      "image/png": "[encoded data removed]",
      "text/plain": [
       "<Figure size 432x288 with 1 Axes>"
      ]
     },
     "metadata": {
      "needs_background": "light"
     },
     "output_type": "display_data"
    }
   ],
   "source": [
    "plt.subplot(1,1,1)\n",
    "train_df['Class'].value_counts().plot(kind = 'bar')\n",
    "plt.xlabel('Class')\n",
    "plt.ylabel('Counts')\n",
    "plt.show()\n",
    "\n",
    "test_df['Class'].value_counts().plot(kind = 'bar')\n",
    "plt.xlabel('Class')\n",
    "plt.ylabel('Counts')\n",
    "plt.show()\n",
    "\n",
    "cv_df['Class'].value_counts().plot(kind = 'bar')\n",
    "plt.xlabel('Class')\n",
    "plt.ylabel('Counts')\n",
    "plt.show()"
   ]
  },
  {
   "cell_type": "markdown",
   "id": "ed463574",
   "metadata": {},
   "source": [
    "##### we are working on imbalanced data"
   ]
  },
  {
   "cell_type": "markdown",
   "id": "6c9938bb",
   "metadata": {},
   "source": [
    "## Random classifier\n",
    "\n",
    "##### I built a random classifier just so to compare my results with the more intelligent classifier that I will be building next"
   ]
  },
  {
   "cell_type": "code",
   "execution_count": 16,
   "id": "ac1128ec",
   "metadata": {},
   "outputs": [
    {
     "name": "stdout",
     "output_type": "stream",
     "text": [
      "log loss for cross validation data : 2.1972245773362196\n"
     ]
    }
   ],
   "source": [
    "\n",
    "\n",
    "dummy_clf = DummyClassifier(strategy = 'uniform')\n",
    "dummy_clf.fit(train_df,y_train)\n",
    "prob_preds = dummy_clf.predict_proba(cv_df)\n",
    "preds = dummy_clf.predict(cv_df)\n",
    "print('log loss for cross validation data : {}'.format(log_loss(y_cv , prob_preds , eps = 1e-15)))\n",
    "\n",
    "\n",
    "\n",
    "\n"
   ]
  },
  {
   "cell_type": "markdown",
   "id": "4bc4c0d5",
   "metadata": {},
   "source": [
    "## Univariate analysis"
   ]
  },
  {
   "cell_type": "markdown",
   "id": "a8105ce3",
   "metadata": {},
   "source": [
    "#### GENE"
   ]
  },
  {
   "cell_type": "code",
   "execution_count": 17,
   "id": "8990cd12",
   "metadata": {},
   "outputs": [
    {
     "name": "stdout",
     "output_type": "stream",
     "text": [
      "BRCA1    172\n",
      "TP53      96\n",
      "EGFR      92\n",
      "BRCA2     81\n",
      "PTEN      78\n",
      "        ... \n",
      "ETV1       1\n",
      "BARD1      1\n",
      "IKZF1      1\n",
      "ASXL1      1\n",
      "AXIN1      1\n",
      "Name: Gene, Length: 235, dtype: int64\n",
      "the number of distinct genes are : 235\n"
     ]
    }
   ],
   "source": [
    "unique_genes = train_df['Gene'].value_counts()\n",
    "print(unique_genes)\n",
    "print('the number of distinct genes are :' , unique_genes.shape[0])"
   ]
  },
  {
   "cell_type": "code",
   "execution_count": 18,
   "id": "ef4e659f",
   "metadata": {},
   "outputs": [
    {
     "data": {
      "image/png": "[encoded data removed]",
      "text/plain": [
       "<Figure size 432x288 with 1 Axes>"
      ]
     },
     "metadata": {
      "needs_background": "light"
     },
     "output_type": "display_data"
    }
   ],
   "source": [
    "s = sum(unique_genes.values)\n",
    "h = unique_genes.values/s\n",
    "plt.plot(h)\n",
    "plt.title('histogram of gene occurences')\n",
    "plt.xlabel('Index of gene')\n",
    "plt.ylabel('No of occurence')\n",
    "plt.grid()\n",
    "plt.show()"
   ]
  },
  {
   "cell_type": "code",
   "execution_count": 19,
   "id": "ba9d1b61",
   "metadata": {},
   "outputs": [
    {
     "data": {
      "image/png": "[encoded data removed]",
      "text/plain": [
       "<Figure size 432x288 with 1 Axes>"
      ]
     },
     "metadata": {
      "needs_background": "light"
     },
     "output_type": "display_data"
    }
   ],
   "source": [
    "plt.plot(np.cumsum(h))\n",
    "plt.title('cumulative distribution(CDF) of gene occurences')\n",
    "plt.xlabel('Index of gene')\n",
    "plt.ylabel('No of occurence')\n",
    "plt.grid()\n",
    "plt.show()"
   ]
  },
  {
   "cell_type": "code",
   "execution_count": 20,
   "id": "6fe95c09",
   "metadata": {},
   "outputs": [],
   "source": [
    "# code for response coding with Laplace smoothing.\n",
    "# alpha : used for laplace smoothing\n",
    "# feature: ['gene', 'variation']\n",
    "# df: ['train_df', 'test_df', 'cv_df']\n",
    "# algorithm\n",
    "# ----------\n",
    "# Consider all unique values and the number of occurances of given feature in train data dataframe\n",
    "# build a vector (1*9) , the first element = (number of times it occured in class1 + 10*alpha / number of time it occurred in total data+90*alpha)\n",
    "# gv_dict is like a look up table, for every gene it store a (1*9) representation of it\n",
    "# for a value of feature in df:\n",
    "# if it is in train data:\n",
    "# we add the vector that was stored in 'gv_dict' look up table to 'gv_fea'\n",
    "# if it is not there is train:\n",
    "# we add [1/9, 1/9, 1/9, 1/9,1/9, 1/9, 1/9, 1/9, 1/9] to 'gv_fea'\n",
    "# return 'gv_fea'\n",
    "# ----------------------\n",
    "\n",
    "# get_gv_fea_dict: Get Gene varaition Feature Dict\n",
    "def get_gv_fea_dict(alpha, feature, df):\n",
    "    # value_count: it contains a dict like\n",
    "    # print(train_df['Gene'].value_counts())\n",
    "    # output:\n",
    "    #        {BRCA1      174\n",
    "    #         TP53       106\n",
    "    #         EGFR        86\n",
    "    #         BRCA2       75\n",
    "    #         PTEN        69\n",
    "    #         KIT         61\n",
    "    #         BRAF        60\n",
    "    #         ERBB2       47\n",
    "    #         PDGFRA      46\n",
    "    #         ...}\n",
    "    # print(train_df['Variation'].value_counts())\n",
    "    # output:\n",
    "    # {\n",
    "    # Truncating_Mutations                     63\n",
    "    # Deletion                                 43\n",
    "    # Amplification                            43\n",
    "    # Fusions                                  22\n",
    "    # Overexpression                            3\n",
    "    # E17K                                      3\n",
    "    # Q61L                                      3\n",
    "    # S222D                                     2\n",
    "    # P130S                                     2\n",
    "    # ...\n",
    "    # }\n",
    "    value_count = train_df[feature].value_counts()\n",
    "    \n",
    "    # gv_dict : Gene Variation Dict, which contains the probability array for each gene/variation\n",
    "    gv_dict = dict()\n",
    "    \n",
    "    # denominator will contain the number of time that particular feature occured in whole data\n",
    "    for i, denominator in value_count.items():\n",
    "        # vec will contain (p(yi==1/Gi) probability of gene/variation belongs to perticular class\n",
    "        # vec is 9 diamensional vector\n",
    "        vec = []\n",
    "        for k in range(1,10):\n",
    "            # print(train_df.loc[(train_df['Class']==1) & (train_df['Gene']=='BRCA1')])\n",
    "            #         ID   Gene             Variation  Class  \n",
    "            # 2470  2470  BRCA1                S1715C      1   \n",
    "            # 2486  2486  BRCA1                S1841R      1   \n",
    "            # 2614  2614  BRCA1                   M1R      1   \n",
    "            # 2432  2432  BRCA1                L1657P      1   \n",
    "            # 2567  2567  BRCA1                T1685A      1   \n",
    "            # 2583  2583  BRCA1                E1660G      1   \n",
    "            # 2634  2634  BRCA1                W1718L      1   \n",
    "            # cls_cnt.shape[0] will return the number of rows\n",
    "\n",
    "            cls_cnt = train_df.loc[(train_df[feature]==i) & (train_df['Class']==k) ]\n",
    "            \n",
    "            # cls_cnt.shape[0](numerator) will contain the number of time that particular feature occured in whole data\n",
    "            vec.append((cls_cnt.shape[0] + alpha*10)/ (denominator + 90*alpha))\n",
    "\n",
    "        # we are adding the gene/variation to the dict as key and vec as value\n",
    "        gv_dict[i]=vec\n",
    "    return gv_dict\n",
    "\n",
    "# Get Gene variation feature\n",
    "def get_gv_feature(alpha, feature, df):\n",
    "    # print(gv_dict)\n",
    "    #     {'BRCA1': [0.20075757575757575, 0.03787878787878788, 0.068181818181818177, 0.13636363636363635, 0.25, 0.19318181818181818, 0.03787878787878788, 0.03787878787878788, 0.03787878787878788], \n",
    "    #      'TP53': [0.32142857142857145, 0.061224489795918366, 0.061224489795918366, 0.27040816326530615, 0.061224489795918366, 0.066326530612244902, 0.051020408163265307, 0.051020408163265307, 0.056122448979591837], \n",
    "    #      'EGFR': [0.056818181818181816, 0.21590909090909091, 0.0625, 0.068181818181818177, 0.068181818181818177, 0.0625, 0.34659090909090912, 0.0625, 0.056818181818181816], \n",
    "    #      'BRCA2': [0.13333333333333333, 0.060606060606060608, 0.060606060606060608, 0.078787878787878782, 0.1393939393939394, 0.34545454545454546, 0.060606060606060608, 0.060606060606060608, 0.060606060606060608], \n",
    "    #      'PTEN': [0.069182389937106917, 0.062893081761006289, 0.069182389937106917, 0.46540880503144655, 0.075471698113207544, 0.062893081761006289, 0.069182389937106917, 0.062893081761006289, 0.062893081761006289], \n",
    "    #      'KIT': [0.066225165562913912, 0.25165562913907286, 0.072847682119205295, 0.072847682119205295, 0.066225165562913912, 0.066225165562913912, 0.27152317880794702, 0.066225165562913912, 0.066225165562913912], \n",
    "    #      'BRAF': [0.066666666666666666, 0.17999999999999999, 0.073333333333333334, 0.073333333333333334, 0.093333333333333338, 0.080000000000000002, 0.29999999999999999, 0.066666666666666666, 0.066666666666666666],\n",
    "    #      ...\n",
    "    #     }\n",
    "    gv_dict = get_gv_fea_dict(alpha, feature, df)\n",
    "    # value_count is similar in get_gv_fea_dict\n",
    "    value_count = train_df[feature].value_counts()\n",
    "    \n",
    "    # gv_fea: Gene_variation feature, it will contain the feature for each feature value in the data\n",
    "    gv_fea = []\n",
    "    # for every feature values in the given data frame we will check if it is there in the train data then we will add the feature to gv_fea\n",
    "    # if not we will add [1/9,1/9,1/9,1/9,1/9,1/9,1/9,1/9,1/9] to gv_fea\n",
    "    for index, row in df.iterrows():\n",
    "        if row[feature] in dict(value_count).keys():\n",
    "            gv_fea.append(gv_dict[row[feature]])\n",
    "        else:\n",
    "            gv_fea.append([1/9,1/9,1/9,1/9,1/9,1/9,1/9,1/9,1/9])\n",
    "#             gv_fea.append([-1,-1,-1,-1,-1,-1,-1,-1,-1])\n",
    "    return gv_fea"
   ]
  },
  {
   "cell_type": "code",
   "execution_count": 21,
   "id": "d1e53116",
   "metadata": {},
   "outputs": [],
   "source": [
    "#response-coding of the Gene feature\n",
    "# alpha is used for laplace smoothing\n",
    "alpha = 1\n",
    "# train gene feature\n",
    "train_gene_feature_responseCoding = np.array(get_gv_feature(alpha, \"Gene\", train_df))\n",
    "# test gene feature\n",
    "test_gene_feature_responseCoding = np.array(get_gv_feature(alpha, \"Gene\", test_df))\n",
    "# cross validation gene feature\n",
    "cv_gene_feature_responseCoding = np.array(get_gv_feature(alpha, \"Gene\", cv_df))"
   ]
  },
  {
   "cell_type": "code",
   "execution_count": 22,
   "id": "92e1e509",
   "metadata": {},
   "outputs": [
    {
     "name": "stdout",
     "output_type": "stream",
     "text": [
      "train_gene_feature_responseCoding is converted feature using respone coding method. The shape of gene feature: (2124, 9)\n"
     ]
    }
   ],
   "source": [
    "print(\"train_gene_feature_responseCoding is converted feature using respone coding method. The shape of gene feature:\", train_gene_feature_responseCoding.shape)"
   ]
  },
  {
   "cell_type": "markdown",
   "id": "94f2c338",
   "metadata": {},
   "source": [
    "### one hot encoding"
   ]
  },
  {
   "cell_type": "code",
   "execution_count": 23,
   "id": "feb630e7",
   "metadata": {},
   "outputs": [],
   "source": [
    "gene_vectorizer = CountVectorizer()\n",
    "train_gene_feature_onehotcoding = gene_vectorizer.fit_transform(train_df['Gene'])\n",
    "test_gene_feature_onehotcoding = gene_vectorizer.transform(test_df['Gene'])\n",
    "cv_gene_feature_onehotcoding = gene_vectorizer.transform(cv_df['Gene'])"
   ]
  },
  {
   "cell_type": "code",
   "execution_count": 24,
   "id": "d84cee1a",
   "metadata": {},
   "outputs": [
    {
     "data": {
      "text/plain": [
       "1538       ALK\n",
       "1962     MAPK1\n",
       "547      SMAD2\n",
       "2578     BRCA1\n",
       "1934    CARD11\n",
       "Name: Gene, dtype: object"
      ]
     },
     "execution_count": 24,
     "metadata": {},
     "output_type": "execute_result"
    }
   ],
   "source": [
    "train_df['Gene'].head()"
   ]
  },
  {
   "cell_type": "code",
   "execution_count": 25,
   "id": "b7ffcb02",
   "metadata": {},
   "outputs": [
    {
     "data": {
      "text/plain": [
       "['abl1',\n",
       " 'ago2',\n",
       " 'akt1',\n",
       " 'akt2',\n",
       " 'akt3',\n",
       " 'alk',\n",
       " 'apc',\n",
       " 'ar',\n",
       " 'araf',\n",
       " 'arid1a',\n",
       " 'arid1b',\n",
       " 'arid2',\n",
       " 'asxl1',\n",
       " 'asxl2',\n",
       " 'atm',\n",
       " 'atr',\n",
       " 'atrx',\n",
       " 'aurka',\n",
       " 'axin1',\n",
       " 'b2m',\n",
       " 'bap1',\n",
       " 'bard1',\n",
       " 'bcl10',\n",
       " 'bcl2',\n",
       " 'bcor',\n",
       " 'braf',\n",
       " 'brca1',\n",
       " 'brca2',\n",
       " 'brd4',\n",
       " 'brip1',\n",
       " 'btk',\n",
       " 'card11',\n",
       " 'carm1',\n",
       " 'casp8',\n",
       " 'cbl',\n",
       " 'ccnd1',\n",
       " 'ccnd2',\n",
       " 'ccnd3',\n",
       " 'ccne1',\n",
       " 'cdh1',\n",
       " 'cdk12',\n",
       " 'cdk4',\n",
       " 'cdk6',\n",
       " 'cdk8',\n",
       " 'cdkn1a',\n",
       " 'cdkn1b',\n",
       " 'cdkn2a',\n",
       " 'cdkn2b',\n",
       " 'cdkn2c',\n",
       " 'cebpa',\n",
       " 'chek2',\n",
       " 'cic',\n",
       " 'crebbp',\n",
       " 'ctcf',\n",
       " 'ctnnb1',\n",
       " 'ddr2',\n",
       " 'dicer1',\n",
       " 'dnmt3a',\n",
       " 'dnmt3b',\n",
       " 'egfr',\n",
       " 'eif1ax',\n",
       " 'elf3',\n",
       " 'ep300',\n",
       " 'epas1',\n",
       " 'epcam',\n",
       " 'erbb2',\n",
       " 'erbb3',\n",
       " 'erbb4',\n",
       " 'ercc2',\n",
       " 'ercc3',\n",
       " 'ercc4',\n",
       " 'erg',\n",
       " 'errfi1',\n",
       " 'esr1',\n",
       " 'etv1',\n",
       " 'etv6',\n",
       " 'ewsr1',\n",
       " 'ezh2',\n",
       " 'fanca',\n",
       " 'fancc',\n",
       " 'fat1',\n",
       " 'fbxw7',\n",
       " 'fgf3',\n",
       " 'fgf4',\n",
       " 'fgfr1',\n",
       " 'fgfr2',\n",
       " 'fgfr3',\n",
       " 'fgfr4',\n",
       " 'flt3',\n",
       " 'foxa1',\n",
       " 'foxl2',\n",
       " 'foxp1',\n",
       " 'fubp1',\n",
       " 'gata3',\n",
       " 'gnaq',\n",
       " 'gnas',\n",
       " 'h3f3a',\n",
       " 'hist1h1c',\n",
       " 'hla',\n",
       " 'hnf1a',\n",
       " 'hras',\n",
       " 'idh1',\n",
       " 'idh2',\n",
       " 'igf1r',\n",
       " 'ikzf1',\n",
       " 'il7r',\n",
       " 'inpp4b',\n",
       " 'jak1',\n",
       " 'jak2',\n",
       " 'kdm5c',\n",
       " 'kdm6a',\n",
       " 'kdr',\n",
       " 'keap1',\n",
       " 'kit',\n",
       " 'klf4',\n",
       " 'kmt2b',\n",
       " 'kmt2c',\n",
       " 'kmt2d',\n",
       " 'knstrn',\n",
       " 'kras',\n",
       " 'lats1',\n",
       " 'lats2',\n",
       " 'map2k1',\n",
       " 'map2k2',\n",
       " 'map2k4',\n",
       " 'map3k1',\n",
       " 'mapk1',\n",
       " 'mdm4',\n",
       " 'med12',\n",
       " 'mef2b',\n",
       " 'met',\n",
       " 'mga',\n",
       " 'mlh1',\n",
       " 'mpl',\n",
       " 'msh2',\n",
       " 'msh6',\n",
       " 'mtor',\n",
       " 'myc',\n",
       " 'mycn',\n",
       " 'myd88',\n",
       " 'myod1',\n",
       " 'ncor1',\n",
       " 'nf1',\n",
       " 'nf2',\n",
       " 'nfe2l2',\n",
       " 'nfkbia',\n",
       " 'nkx2',\n",
       " 'notch1',\n",
       " 'npm1',\n",
       " 'nras',\n",
       " 'nsd1',\n",
       " 'ntrk1',\n",
       " 'ntrk2',\n",
       " 'ntrk3',\n",
       " 'nup93',\n",
       " 'pax8',\n",
       " 'pbrm1',\n",
       " 'pdgfra',\n",
       " 'pdgfrb',\n",
       " 'pik3ca',\n",
       " 'pik3cb',\n",
       " 'pik3cd',\n",
       " 'pik3r1',\n",
       " 'pik3r2',\n",
       " 'pik3r3',\n",
       " 'pim1',\n",
       " 'pms1',\n",
       " 'pms2',\n",
       " 'pole',\n",
       " 'ppp2r1a',\n",
       " 'ppp6c',\n",
       " 'prdm1',\n",
       " 'ptch1',\n",
       " 'pten',\n",
       " 'ptpn11',\n",
       " 'ptprd',\n",
       " 'ptprt',\n",
       " 'rab35',\n",
       " 'rac1',\n",
       " 'rad21',\n",
       " 'rad50',\n",
       " 'rad51c',\n",
       " 'rad54l',\n",
       " 'raf1',\n",
       " 'rara',\n",
       " 'rasa1',\n",
       " 'rb1',\n",
       " 'rbm10',\n",
       " 'ret',\n",
       " 'rheb',\n",
       " 'rhoa',\n",
       " 'rictor',\n",
       " 'rit1',\n",
       " 'rnf43',\n",
       " 'ros1',\n",
       " 'rras2',\n",
       " 'runx1',\n",
       " 'rxra',\n",
       " 'rybp',\n",
       " 'sdhb',\n",
       " 'sdhc',\n",
       " 'setd2',\n",
       " 'sf3b1',\n",
       " 'smad2',\n",
       " 'smad3',\n",
       " 'smad4',\n",
       " 'smarca4',\n",
       " 'smo',\n",
       " 'sos1',\n",
       " 'sox9',\n",
       " 'spop',\n",
       " 'src',\n",
       " 'srsf2',\n",
       " 'stat3',\n",
       " 'stk11',\n",
       " 'tcf3',\n",
       " 'tcf7l2',\n",
       " 'tert',\n",
       " 'tet1',\n",
       " 'tet2',\n",
       " 'tgfbr1',\n",
       " 'tgfbr2',\n",
       " 'tmprss2',\n",
       " 'tp53',\n",
       " 'tp53bp1',\n",
       " 'tsc1',\n",
       " 'tsc2',\n",
       " 'u2af1',\n",
       " 'vegfa',\n",
       " 'vhl',\n",
       " 'whsc1l1',\n",
       " 'xpo1',\n",
       " 'xrcc2',\n",
       " 'yap1']"
      ]
     },
     "execution_count": 25,
     "metadata": {},
     "output_type": "execute_result"
    }
   ],
   "source": [
    "gene_vectorizer.get_feature_names()"
   ]
  },
  {
   "cell_type": "code",
   "execution_count": 26,
   "id": "e4e2a168",
   "metadata": {},
   "outputs": [
    {
     "name": "stdout",
     "output_type": "stream",
     "text": [
      "train_gene_feature_onehotCoding is converted feature using one-hot encoding method. The shape of gene feature: (2124, 234)\n"
     ]
    }
   ],
   "source": [
    "print(\"train_gene_feature_onehotCoding is converted feature using one-hot encoding method. The shape of gene feature:\", train_gene_feature_onehotcoding.shape)"
   ]
  },
  {
   "cell_type": "code",
   "execution_count": 27,
   "id": "f2957578",
   "metadata": {},
   "outputs": [
    {
     "name": "stdout",
     "output_type": "stream",
     "text": [
      "For values of alpha =  1e-05 The log loss is: 1.221730693029873\n",
      "For values of alpha =  0.0001 The log loss is: 1.2113115113453787\n",
      "For values of alpha =  0.001 The log loss is: 1.2610249912213407\n",
      "For values of alpha =  0.01 The log loss is: 1.3632549168448302\n",
      "For values of alpha =  0.1 The log loss is: 1.4249337439312426\n",
      "For values of alpha =  1 The log loss is: 1.460108199491507\n",
      "For values of best alpha =  0.0001 The train log loss is: 0.988726146134888\n",
      "For values of best alpha =  0.0001 The cross validation log loss is: 1.2113115113453787\n",
      "For values of best alpha =  0.0001 The test log loss is: 1.1716084460337672\n"
     ]
    }
   ],
   "source": [
    "\n",
    "alpha = [10**x for x in range(-5,1)]\n",
    "cv_log_error_array = []\n",
    "\n",
    "\n",
    "for i in alpha:\n",
    "    clf = SGDClassifier(alpha = i , penalty = 'l2' , loss = 'log' , random_state = 42)\n",
    "    clf.fit(train_gene_feature_onehotcoding , y_train)\n",
    "    sig_clf = CalibratedClassifierCV(clf , method = 'sigmoid' )\n",
    "    sig_clf.fit(train_gene_feature_onehotcoding ,y_train)\n",
    "    predict_y = sig_clf.predict_proba(cv_gene_feature_onehotcoding)\n",
    "    cv_log_error_array.append(log_loss(y_cv , predict_y , labels = clf.classes_ , eps = 1e-15))\n",
    "    print('For values of alpha = ', i, \"The log loss is:\",log_loss(y_cv, predict_y, labels=clf.classes_, eps=1e-15))\n",
    "    \n",
    "#   train_df , cv_df , y_train , y_cv\n",
    "    \n",
    "best_alpha = np.argmin(cv_log_error_array)\n",
    "clf = SGDClassifier(alpha=alpha[best_alpha], penalty='l2', loss='log', random_state=42)\n",
    "clf.fit(train_gene_feature_onehotcoding, y_train)\n",
    "sig_clf = CalibratedClassifierCV(clf, method=\"sigmoid\")\n",
    "sig_clf.fit(train_gene_feature_onehotcoding, y_train)\n",
    "\n",
    "predict_y = sig_clf.predict_proba(train_gene_feature_onehotcoding)\n",
    "print('For values of best alpha = ', alpha[best_alpha], \"The train log loss is:\",log_loss(y_train, predict_y, labels=clf.classes_, eps=1e-15))\n",
    "predict_y = sig_clf.predict_proba(cv_gene_feature_onehotcoding)\n",
    "print('For values of best alpha = ', alpha[best_alpha], \"The cross validation log loss is:\",log_loss(y_cv, predict_y, labels=clf.classes_, eps=1e-15))\n",
    "predict_y = sig_clf.predict_proba(test_gene_feature_onehotcoding)\n",
    "print('For values of best alpha = ', alpha[best_alpha], \"The test log loss is:\",log_loss(y_test, predict_y, labels=clf.classes_, eps=1e-15))\n",
    "\n",
    "\n",
    "    \n",
    "    \n",
    "\n",
    "    \n",
    "    \n",
    "\n",
    "\n",
    "\n"
   ]
  },
  {
   "cell_type": "markdown",
   "id": "1219f9a9",
   "metadata": {},
   "source": [
    "#### Here our log loss is significantly less than that of a random model so it means that the gene feature with one hot encoding has some weightage"
   ]
  },
  {
   "cell_type": "markdown",
   "id": "9c8d8c39",
   "metadata": {},
   "source": [
    "## Univariate analysis on Variation feature"
   ]
  },
  {
   "cell_type": "code",
   "execution_count": 28,
   "id": "f85850e1",
   "metadata": {},
   "outputs": [
    {
     "name": "stdout",
     "output_type": "stream",
     "text": [
      "the number of variations in the training dataset are : 1936\n",
      "Truncating_Mutations    58\n",
      "Deletion                46\n",
      "Amplification           44\n",
      "Fusions                 21\n",
      "Overexpression           4\n",
      "G12V                     3\n",
      "F28L                     2\n",
      "Q61H                     2\n",
      "Q22K                     2\n",
      "I31M                     2\n",
      "Name: Variation, dtype: int64\n"
     ]
    }
   ],
   "source": [
    "unique_variations = train_df['Variation'].value_counts()\n",
    "print('the number of variations in the training dataset are :',unique_variations.shape[0])\n",
    "print(unique_variations.head(10))"
   ]
  },
  {
   "cell_type": "code",
   "execution_count": 29,
   "id": "911a6f98",
   "metadata": {},
   "outputs": [
    {
     "data": {
      "image/png": "[encoded data removed]",
      "text/plain": [
       "<Figure size 432x288 with 1 Axes>"
      ]
     },
     "metadata": {
      "needs_background": "light"
     },
     "output_type": "display_data"
    }
   ],
   "source": [
    "s = sum(unique_variations.values)\n",
    "h = unique_variations.values/s\n",
    "plt.plot(h, label=\"Histrogram of Variations\")\n",
    "plt.xlabel('Index of a Variation')\n",
    "plt.ylabel('Number of Occurances')\n",
    "plt.legend()\n",
    "plt.grid()\n",
    "plt.show()"
   ]
  },
  {
   "cell_type": "code",
   "execution_count": 30,
   "id": "e1106f59",
   "metadata": {},
   "outputs": [
    {
     "name": "stdout",
     "output_type": "stream",
     "text": [
      "[0.02730697 0.04896422 0.06967985 ... 0.99905838 0.99952919 1.        ]\n"
     ]
    },
    {
     "data": {
      "image/png": "[encoded data removed]",
      "text/plain": [
       "<Figure size 432x288 with 1 Axes>"
      ]
     },
     "metadata": {
      "needs_background": "light"
     },
     "output_type": "display_data"
    }
   ],
   "source": [
    "p = np.cumsum(h)\n",
    "print(p)\n",
    "plt.plot(p , label = 'cumulative distribution of Variations')\n",
    "plt.grid()\n",
    "plt.legend()\n",
    "plt.show()"
   ]
  },
  {
   "cell_type": "code",
   "execution_count": 31,
   "id": "192e38d8",
   "metadata": {},
   "outputs": [],
   "source": [
    "alpha = 1\n",
    "train_variation_feature_responsecoding = np.array(get_gv_feature(alpha , 'Variation' , train_df))\n",
    "test_variation_feature_responsecoding = np.array(get_gv_feature (alpha , 'Variation' , test_df))\n",
    "cv_variation_feature_responsecoding = np.array(get_gv_feature(alpha , 'Variation' , cv_df))"
   ]
  },
  {
   "cell_type": "code",
   "execution_count": 32,
   "id": "5a29815e",
   "metadata": {},
   "outputs": [
    {
     "name": "stdout",
     "output_type": "stream",
     "text": [
      "The response coded train_df for variation has a shape of (2124, 9)\n"
     ]
    }
   ],
   "source": [
    "print(\"The response coded train_df for variation has a shape of\",train_variation_feature_responsecoding.shape)"
   ]
  },
  {
   "cell_type": "code",
   "execution_count": 33,
   "id": "b2561d12",
   "metadata": {},
   "outputs": [],
   "source": [
    "variation_vectorizer = CountVectorizer()\n",
    "train_variation_feature_onehotcoding = variation_vectorizer.fit_transform(train_df['Variation'])\n",
    "test_variation_feature_onehotcoding = variation_vectorizer.transform(test_df['Variation'])\n",
    "cv_variation_feature_onehotcoding = variation_vectorizer.transform(cv_df['Variation'])"
   ]
  },
  {
   "cell_type": "code",
   "execution_count": 34,
   "id": "aa8037d0",
   "metadata": {},
   "outputs": [
    {
     "name": "stdout",
     "output_type": "stream",
     "text": [
      "the logg loss for 1e-05 is 1.6958308254175527 \n",
      "the logg loss for 0.0001 is 1.6876735653921984 \n",
      "the logg loss for 0.001 is 1.6912680740153494 \n",
      "the logg loss for 0.01 is 1.697932246052724 \n",
      "the logg loss for 0.1 is 1.7087672781902328 \n",
      "the logg loss for 1 is 1.7101067342125242 \n",
      "For values of best alpha =  0.0001 The train log loss is: 0.6923216129481906\n",
      "For values of best alpha =  0.0001 The cross validation log loss is: 1.6876735653921984\n",
      "For values of best alpha =  0.0001 The test log loss is: 1.699717068253431\n"
     ]
    }
   ],
   "source": [
    "alpha = [10**x for x in range (-5,1)]\n",
    "cv_log_loss_array = []\n",
    "\n",
    "for i in alpha:\n",
    "    clf = SGDClassifier(alpha = i , penalty = 'l2' , loss = 'log' , random_state = 42)\n",
    "    clf.fit(train_variation_feature_onehotcoding , y_train) \n",
    "    \n",
    "    sig_clf = CalibratedClassifierCV(clf , method = 'sigmoid')\n",
    "    sig_clf.fit(train_variation_feature_onehotcoding , y_train)\n",
    "    predict_y = sig_clf.predict_proba(cv_variation_feature_onehotcoding)\n",
    "    cv_log_loss_array.append(log_loss(y_cv,predict_y ))\n",
    "    print(\"the logg loss for {} is {} \".format(i , log_loss(y_cv , predict_y)))\n",
    "    \n",
    "best_alpha = np.argmin(cv_log_loss_array)\n",
    "\n",
    "clf = SGDClassifier(alpha = alpha[best_alpha] , penalty = 'l2' , loss = 'log' , random_state = 42)\n",
    "clf.fit(train_variation_feature_onehotcoding , y_train) \n",
    "\n",
    "sig_clf = CalibratedClassifierCV(clf , method = 'sigmoid')\n",
    "sig_clf.fit(train_variation_feature_onehotcoding , y_train)\n",
    "predict_y = sig_clf.predict_proba(cv_variation_feature_onehotcoding)\n",
    "cv_log_loss_array.append(log_loss(y_cv,predict_y ))\n",
    "\n",
    "predict_y = sig_clf.predict_proba(train_variation_feature_onehotcoding)\n",
    "print('For values of best alpha = ', alpha[best_alpha], \"The train log loss is:\",log_loss(y_train, predict_y, labels=clf.classes_, eps=1e-15))\n",
    "predict_y = sig_clf.predict_proba(cv_variation_feature_onehotcoding)\n",
    "print('For values of best alpha = ', alpha[best_alpha], \"The cross validation log loss is:\",log_loss(y_cv, predict_y, labels=clf.classes_, eps=1e-15))\n",
    "predict_y = sig_clf.predict_proba(test_variation_feature_onehotcoding)\n",
    "print('For values of best alpha = ', alpha[best_alpha], \"The test log loss is:\",log_loss(y_test, predict_y, labels=clf.classes_, eps=1e-15))\n"
   ]
  },
  {
   "cell_type": "code",
   "execution_count": 35,
   "id": "2f99f0ff",
   "metadata": {},
   "outputs": [
    {
     "name": "stdout",
     "output_type": "stream",
     "text": [
      "how many of the data points in training dataset 2124\n",
      "In test data 74 out of 665 : 11.12781954887218\n",
      "In cross validation data 58 out of  532 : 10.902255639097744\n"
     ]
    }
   ],
   "source": [
    "print('how many of the data points in training dataset' ,train_df.shape[0] )\n",
    "test_coverage = test_df[test_df['Variation'].isin((train_df['Variation']))].shape[0]\n",
    "cv_coverage = cv_df[cv_df['Variation'].isin(list(set(train_df['Variation'])))].shape[0]\n",
    "\n",
    "print('In test data',test_coverage, 'out of',test_df.shape[0], \":\",(test_coverage/test_df.shape[0])*100)\n",
    "print('In cross validation data',cv_coverage, 'out of ',cv_df.shape[0],\":\" ,(cv_coverage/cv_df.shape[0])*100)\n"
   ]
  },
  {
   "cell_type": "markdown",
   "id": "80802bbc",
   "metadata": {},
   "source": [
    "#### our feature variation is unstable"
   ]
  },
  {
   "cell_type": "markdown",
   "id": "dfc908af",
   "metadata": {},
   "source": [
    "### Univariate analysis [Text]"
   ]
  },
  {
   "cell_type": "code",
   "execution_count": 36,
   "id": "054c8e62",
   "metadata": {},
   "outputs": [],
   "source": [
    "# cls_text is a data frame\n",
    "# for every row in data frame consider the 'TEXT'\n",
    "# split the words by space\n",
    "# make a dict with those words\n",
    "# increment its count whenever we see that word\n",
    "\n",
    "def extract_dictionary_paddle(cls_text):\n",
    "    \n",
    "    dictionary = defaultdict(int)\n",
    "    for i,row in cls_text.iterrows():\n",
    "        for word in row['TEXT'].split():\n",
    "            dictionary[word] += 1\n",
    "            \n",
    "    return dictionary\n",
    "\n",
    "            \n"
   ]
  },
  {
   "cell_type": "code",
   "execution_count": 37,
   "id": "01b73de4",
   "metadata": {},
   "outputs": [],
   "source": [
    "\n",
    "\n",
    "def get_text_responsecoding(df):\n",
    "    \n",
    "    text_feature_responseCoding = np.zeros((df.shape[0],9))\n",
    "    for i in range(0,9):\n",
    "        row_index = 0\n",
    "        for index, row in df.iterrows():\n",
    "            sum_prob = 0\n",
    "            for word in row['TEXT'].split():\n",
    "                sum_prob += math.log(((dict_list[i].get(word,0)+10 )/(total_dict.get(word,0)+90)))\n",
    "            text_feature_responseCoding[row_index][i] = math.exp(sum_prob/len(row['TEXT'].split()))\n",
    "            row_index += 1\n",
    "    return text_feature_responseCoding\n",
    "    \n",
    "    \n",
    "    "
   ]
  },
  {
   "cell_type": "code",
   "execution_count": 38,
   "id": "fd36da30",
   "metadata": {},
   "outputs": [],
   "source": [
    "dict_list = []\n",
    "# dict_list =[] contains 9 dictoinaries each corresponds to a class\n",
    "for i in range(1,10):\n",
    "    cls_text = train_df[train_df['Class']==i]\n",
    "    # build a word dict based on the words in that class\n",
    "    dict_list.append(extract_dictionary_paddle(cls_text))\n",
    "    # append it to dict_list\n",
    "\n",
    "# dict_list[i] is build on i'th  class text data\n",
    "# total_dict is buid on whole training text data\n",
    "total_dict = extract_dictionary_paddle(train_df)\n",
    "\n",
    "train_text_feature_responsecoding  = get_text_responsecoding(train_df)\n",
    "test_text_feature_responsecoding  = get_text_responsecoding(test_df)\n",
    "cv_text_feature_responsecoding  = get_text_responsecoding(cv_df)"
   ]
  },
  {
   "cell_type": "code",
   "execution_count": 39,
   "id": "e7e274bf",
   "metadata": {},
   "outputs": [],
   "source": [
    "# we convert each row values such that they sum to 1  \n",
    "train_text_feature_responsecoding = (train_text_feature_responsecoding.T/train_text_feature_responsecoding.sum(axis=1)).T\n",
    "test_text_feature_responsecoding = (test_text_feature_responsecoding.T/test_text_feature_responsecoding.sum(axis=1)).T\n",
    "cv_text_feature_responsecoding = (cv_text_feature_responsecoding.T/cv_text_feature_responsecoding.sum(axis=1)).T"
   ]
  },
  {
   "cell_type": "code",
   "execution_count": 40,
   "id": "635b6835",
   "metadata": {},
   "outputs": [],
   "source": [
    "# building a CountVectorizer with all the words that occured minimum 3 times in train data\n",
    "\n",
    "text_vectorizer = CountVectorizer(min_df = 3)\n",
    "train_text_feature_onehotcoding = text_vectorizer.fit_transform(train_df['TEXT'])\n",
    "\n",
    "train_text_features = text_vectorizer.get_feature_names()\n",
    "\n",
    "# train_text_feature_onehotCoding.sum(axis=0).A1 will sum every row and returns (1*number of features) vector\n",
    "train_text_feature_counts = train_text_feature_onehotcoding.sum(axis = 0).A1\n",
    "\n",
    "# zip(list(text_features),text_fea_counts) will zip a word with its number of times it occured\n",
    "train_fea_dict = dict(zip(list(train_text_features) , train_text_feature_counts))"
   ]
  },
  {
   "cell_type": "code",
   "execution_count": 41,
   "id": "24df3051",
   "metadata": {},
   "outputs": [],
   "source": [
    "# don't forget to normalize every feature\n",
    "train_text_feature_onehotcoding = normalize(train_text_feature_onehotcoding, axis=0)\n",
    "\n",
    "# we use the same vectorizer that was trained on train data\n",
    "test_text_feature_onehotcoding = text_vectorizer.transform(test_df['TEXT'])\n",
    "# don't forget to normalize every feature\n",
    "test_text_feature_onehotcoding = normalize(test_text_feature_onehotcoding, axis=0)\n",
    "\n",
    "# we use the same vectorizer that was trained on train data\n",
    "cv_text_feature_onehotcoding = text_vectorizer.transform(cv_df['TEXT'])\n",
    "# don't forget to normalize every feature\n",
    "cv_text_feature_onehotcoding = normalize(cv_text_feature_onehotcoding, axis=0)"
   ]
  },
  {
   "cell_type": "code",
   "execution_count": 42,
   "id": "e0e97243",
   "metadata": {},
   "outputs": [
    {
     "name": "stdout",
     "output_type": "stream",
     "text": [
      "the number of unique words in the dataset are :  53090\n"
     ]
    }
   ],
   "source": [
    "print('the number of unique words in the dataset are : ', len(train_text_features))"
   ]
  },
  {
   "cell_type": "code",
   "execution_count": 43,
   "id": "25f19877",
   "metadata": {},
   "outputs": [
    {
     "name": "stdout",
     "output_type": "stream",
     "text": [
      "For values of alpha =  1e-05 The log loss is: 1.3087913358685854\n",
      "For values of alpha =  0.0001 The log loss is: 1.1763652348172384\n",
      "For values of alpha =  0.001 The log loss is: 1.1596219974675306\n",
      "For values of alpha =  0.01 The log loss is: 1.2710114935732124\n",
      "For values of alpha =  0.1 The log loss is: 1.4432971756525015\n",
      "For values of alpha =  1 The log loss is: 1.6276215694809208\n",
      "For values of best alpha =  0.001 The train log loss is: 0.6681607569912816\n",
      "For values of best alpha =  0.001 The cross validation log loss is: 1.1596219974675306\n",
      "For values of best alpha =  0.001 The test log loss is: 1.1944508642774538\n"
     ]
    }
   ],
   "source": [
    "alpha = [10 ** x for x in range(-5, 1)]\n",
    "\n",
    "# read more about SGDClassifier() at http://scikit-learn.org/stable/modules/generated/sklearn.linear_model.SGDClassifier.html\n",
    "# ------------------------------\n",
    "# default parameters\n",
    "# SGDClassifier(loss=’hinge’, penalty=’l2’, alpha=0.0001, l1_ratio=0.15, fit_intercept=True, max_iter=None, tol=None, \n",
    "# shuffle=True, verbose=0, epsilon=0.1, n_jobs=1, random_state=None, learning_rate=’optimal’, eta0=0.0, power_t=0.5, \n",
    "# class_weight=None, warm_start=False, average=False, n_iter=None)\n",
    "\n",
    "# some of methods\n",
    "# fit(X, y[, coef_init, intercept_init, …])\tFit linear model with Stochastic Gradient Descent.\n",
    "# predict(X)\tPredict class labels for samples in X.\n",
    "\n",
    "#-------------------------------\n",
    "# video link: \n",
    "#------------------------------\n",
    "\n",
    "\n",
    "cv_log_error_array=[]\n",
    "for i in alpha:\n",
    "    clf = SGDClassifier(alpha=i, penalty='l2', loss='log', random_state=42)\n",
    "    clf.fit(train_text_feature_onehotcoding, y_train)\n",
    "    \n",
    "    sig_clf = CalibratedClassifierCV(clf, method=\"sigmoid\")\n",
    "    sig_clf.fit(train_text_feature_onehotcoding, y_train)\n",
    "    predict_y = sig_clf.predict_proba(cv_text_feature_onehotcoding)\n",
    "    cv_log_error_array.append(log_loss(y_cv, predict_y, labels=clf.classes_, eps=1e-15))\n",
    "    print('For values of alpha = ', i, \"The log loss is:\",log_loss(y_cv, predict_y, labels=clf.classes_, eps=1e-15))\n",
    "\n",
    "\n",
    "\n",
    "\n",
    "best_alpha = np.argmin(cv_log_error_array)\n",
    "clf = SGDClassifier(alpha=alpha[best_alpha], penalty='l2', loss='log', random_state=42)\n",
    "clf.fit(train_text_feature_onehotcoding, y_train)\n",
    "sig_clf = CalibratedClassifierCV(clf, method=\"sigmoid\")\n",
    "sig_clf.fit(train_text_feature_onehotcoding, y_train)\n",
    "\n",
    "predict_y = sig_clf.predict_proba(train_text_feature_onehotcoding)\n",
    "print('For values of best alpha = ', alpha[best_alpha], \"The train log loss is:\",log_loss(y_train, predict_y, labels=clf.classes_, eps=1e-15))\n",
    "predict_y = sig_clf.predict_proba(cv_text_feature_onehotcoding)\n",
    "print('For values of best alpha = ', alpha[best_alpha], \"The cross validation log loss is:\",log_loss(y_cv, predict_y, labels=clf.classes_, eps=1e-15))\n",
    "predict_y = sig_clf.predict_proba(test_text_feature_onehotcoding)\n",
    "print('For values of best alpha = ', alpha[best_alpha], \"The test log loss is:\",log_loss(y_test, predict_y, labels=clf.classes_, eps=1e-15))\n"
   ]
  },
  {
   "cell_type": "markdown",
   "id": "4edba420",
   "metadata": {},
   "source": [
    "### These are one of the best results we've got for predicting yi's"
   ]
  },
  {
   "cell_type": "code",
   "execution_count": 44,
   "id": "a1ababf8",
   "metadata": {},
   "outputs": [],
   "source": [
    "def get_intersec_text(df):\n",
    "    df_text_vec = CountVectorizer(min_df = 3)\n",
    "    df_text_fea = df_text_vec.fit_transform(df['TEXT'])\n",
    "    df_text_features = df_text_vec.get_feature_names()\n",
    "    \n",
    "    len_1 = len(set(df_text_features))\n",
    "    len_2 = len(set(train_text_features) & set(df_text_features))\n",
    "    return len_1,len_2\n",
    "\n",
    "    "
   ]
  },
  {
   "cell_type": "code",
   "execution_count": 45,
   "id": "005ca08f",
   "metadata": {},
   "outputs": [
    {
     "name": "stdout",
     "output_type": "stream",
     "text": [
      "96.742 % of word of test data appeared in train data\n",
      "96.742 % of word of Cross Validation appeared in train data\n"
     ]
    }
   ],
   "source": [
    "len_1,len_2 = get_intersec_text(test_df)\n",
    "print(np.round((len_2/len_1)*100,3),'% of word of test data appeared in train data')\n",
    "len1,len2 = get_intersec_text(cv_df)\n",
    "print(np.round((len_2/len_1)*100, 3), \"% of word of Cross Validation appeared in train data\")\n"
   ]
  },
  {
   "cell_type": "markdown",
   "id": "00faf6d6",
   "metadata": {},
   "source": [
    "### Text feature is pretty stable too !"
   ]
  },
  {
   "cell_type": "markdown",
   "id": "fb51420b",
   "metadata": {},
   "source": [
    "## Building ML models"
   ]
  },
  {
   "cell_type": "code",
   "execution_count": 46,
   "id": "d134f091",
   "metadata": {},
   "outputs": [],
   "source": [
    "def predict(X_train , X_test , y_train , y_test,clf):\n",
    "    \n",
    "    clf.fit(X_train , y_train)\n",
    "    sig_clf = CalibratedClassifierCV(clf , method = 'sigmoid')\n",
    "    pred = sig_clf.predict(X_test)\n",
    "    \n",
    "    print('log loss:' , log_loss(y_test , sig_clf.predict_proba(X_test)))\n",
    "    print('Number of misclassified points' , np.count_nonzero((pred - y_test)) / y_test.shape[0])\n",
    "    \n",
    "    \n",
    "          \n",
    "\n",
    "    "
   ]
  },
  {
   "cell_type": "code",
   "execution_count": 47,
   "id": "100e69cb",
   "metadata": {},
   "outputs": [],
   "source": [
    "def report_log_loss(X_train , X_test , y_train , y_test,clf):\n",
    "    \n",
    "    clf.fit(train_x, train_y)\n",
    "    sig_clf = CalibratedClassifierCV(clf, method=\"sigmoid\")\n",
    "    sig_clf.fit(train_x, train_y)\n",
    "    sig_clf_probs = sig_clf.predict_proba(test_x)\n",
    "    return log_loss(test_y, sig_clf_probs, eps=1e-15)\n",
    "    "
   ]
  },
  {
   "cell_type": "code",
   "execution_count": 48,
   "id": "85178bbc",
   "metadata": {},
   "outputs": [],
   "source": [
    "train_gene_var_onehotcoding = hstack((train_gene_feature_onehotcoding,train_variation_feature_onehotcoding))\n",
    "test_gene_var_onehotcoding = hstack((test_gene_feature_onehotcoding,test_variation_feature_onehotcoding))\n",
    "cv_gene_var_onehotcoding = hstack((cv_gene_feature_onehotcoding,cv_variation_feature_onehotcoding))\n",
    "\n",
    "train_x_onehotcoding = hstack((train_gene_var_onehotcoding, train_text_feature_onehotcoding)).tocsr()\n",
    "train_y = np.array(list(train_df['Class']))\n",
    "\n",
    "test_x_onehotcoding = hstack((test_gene_var_onehotcoding, test_text_feature_onehotcoding)).tocsr()\n",
    "test_y = np.array(list(test_df['Class']))\n",
    "\n",
    "cv_x_onehotcoding = hstack((cv_gene_var_onehotcoding, cv_text_feature_onehotcoding)).tocsr()\n",
    "cv_y = np.array(list(cv_df['Class']))\n",
    "\n"
   ]
  },
  {
   "cell_type": "code",
   "execution_count": 49,
   "id": "8314b140",
   "metadata": {},
   "outputs": [
    {
     "name": "stdout",
     "output_type": "stream",
     "text": [
      "One hot encoding features :\n",
      "(number of data points * number of features) in train data =  (2124, 55291)\n",
      "(number of data points * number of features) in test data =  (665, 55291)\n",
      "(number of data points * number of features) in cross validation data = (532, 55291)\n"
     ]
    }
   ],
   "source": [
    "print(\"One hot encoding features :\")\n",
    "print(\"(number of data points * number of features) in train data = \", train_x_onehotcoding.shape)\n",
    "print(\"(number of data points * number of features) in test data = \", test_x_onehotcoding.shape)\n",
    "print(\"(number of data points * number of features) in cross validation data =\", cv_x_onehotcoding.shape)"
   ]
  },
  {
   "cell_type": "code",
   "execution_count": 50,
   "id": "4b74f060",
   "metadata": {},
   "outputs": [],
   "source": [
    "train_gene_var_responsecoding = np.hstack((train_gene_feature_responseCoding,train_variation_feature_responsecoding))\n",
    "test_gene_var_responsecoding = np.hstack((test_gene_feature_responseCoding,test_variation_feature_responsecoding))\n",
    "cv_gene_var_responsecoding = np.hstack((cv_gene_feature_responseCoding,cv_variation_feature_responsecoding))\n",
    "\n",
    "train_x_responsecoding = np.hstack((train_gene_var_responsecoding, train_text_feature_responsecoding))\n",
    "test_x_responsecoding = np.hstack((test_gene_var_responsecoding, test_text_feature_responsecoding))\n",
    "cv_x_responsecoding = np.hstack((cv_gene_var_responsecoding, cv_text_feature_responsecoding))"
   ]
  },
  {
   "cell_type": "code",
   "execution_count": 51,
   "id": "4c08b521",
   "metadata": {},
   "outputs": [
    {
     "name": "stdout",
     "output_type": "stream",
     "text": [
      " Response encoding features :\n",
      "(number of data points * number of features) in train data =  (2124, 27)\n",
      "(number of data points * number of features) in test data =  (665, 27)\n",
      "(number of data points * number of features) in cross validation data = (532, 27)\n"
     ]
    }
   ],
   "source": [
    "print(\" Response encoding features :\")\n",
    "print(\"(number of data points * number of features) in train data = \", train_x_responsecoding.shape)\n",
    "print(\"(number of data points * number of features) in test data = \", test_x_responsecoding.shape)\n",
    "print(\"(number of data points * number of features) in cross validation data =\", cv_x_responsecoding.shape)"
   ]
  },
  {
   "cell_type": "markdown",
   "id": "f541ef48",
   "metadata": {},
   "source": [
    "## Baseline model (naive bayes)"
   ]
  },
  {
   "cell_type": "code",
   "execution_count": 52,
   "id": "487a160c",
   "metadata": {},
   "outputs": [
    {
     "name": "stdout",
     "output_type": "stream",
     "text": [
      "for alpha = 1e-05\n",
      "Log Loss : 1.2883807521150776\n",
      "for alpha = 0.0001\n",
      "Log Loss : 1.276882275273027\n",
      "for alpha = 0.001\n",
      "Log Loss : 1.2827299010225202\n",
      "for alpha = 0.1\n",
      "Log Loss : 1.2829061734059917\n",
      "for alpha = 1\n",
      "Log Loss : 1.301945736629914\n",
      "for alpha = 10\n",
      "Log Loss : 1.4221733789082849\n",
      "for alpha = 100\n",
      "Log Loss : 1.4455153093021165\n",
      "for alpha = 1000\n",
      "Log Loss : 1.3840294523790762\n",
      "For values of best alpha =  0.0001 The train log loss is: 0.8133285507604147\n",
      "For values of best alpha =  0.0001 The cross validation log loss is: 1.276882275273027\n",
      "For values of best alpha =  0.0001 The test log loss is: 1.307825477710635\n"
     ]
    }
   ],
   "source": [
    "alpha = [0.00001, 0.0001, 0.001, 0.1, 1, 10, 100,1000]\n",
    "cv_log_error_array = []\n",
    "for i in alpha:\n",
    "    print(\"for alpha =\", i)\n",
    "    clf = MultinomialNB(alpha=i)\n",
    "    clf.fit(train_x_onehotcoding, train_y)\n",
    "    sig_clf = CalibratedClassifierCV(clf, method=\"sigmoid\")\n",
    "    sig_clf.fit(train_x_onehotcoding, train_y)\n",
    "    sig_clf_probs = sig_clf.predict_proba(cv_x_onehotcoding)\n",
    "    cv_log_error_array.append(log_loss(cv_y, sig_clf_probs, labels=clf.classes_, eps=1e-15))\n",
    "    # to avoid rounding error while multiplying probabilites we use log-probability estimates\n",
    "    print(\"Log Loss :\",log_loss(cv_y, sig_clf_probs))\n",
    "    \n",
    "best_alpha = np.argmin(cv_log_error_array)\n",
    "clf = MultinomialNB(alpha=alpha[best_alpha])\n",
    "clf.fit(train_x_onehotcoding, train_y)\n",
    "sig_clf = CalibratedClassifierCV(clf, method=\"sigmoid\")\n",
    "sig_clf.fit(train_x_onehotcoding, train_y)\n",
    "\n",
    "\n",
    "predict_y = sig_clf.predict_proba(train_x_onehotcoding)\n",
    "print('For values of best alpha = ', alpha[best_alpha], \"The train log loss is:\",log_loss(y_train, predict_y, labels=clf.classes_, eps=1e-15))\n",
    "predict_y = sig_clf.predict_proba(cv_x_onehotcoding)\n",
    "print('For values of best alpha = ', alpha[best_alpha], \"The cross validation log loss is:\",log_loss(y_cv, predict_y, labels=clf.classes_, eps=1e-15))\n",
    "predict_y = sig_clf.predict_proba(test_x_onehotcoding)\n",
    "print('For values of best alpha = ', alpha[best_alpha], \"The test log loss is:\",log_loss(y_test, predict_y, labels=clf.classes_, eps=1e-15))\n"
   ]
  },
  {
   "cell_type": "markdown",
   "id": "14ebc42c",
   "metadata": {},
   "source": [
    "### the model worked fairly well ,  next I'll cal the miscalssifed points"
   ]
  },
  {
   "cell_type": "code",
   "execution_count": 53,
   "id": "d07d2981",
   "metadata": {},
   "outputs": [
    {
     "name": "stdout",
     "output_type": "stream",
     "text": [
      "Log Loss : 1.276882275273027\n",
      "Number of missclassified point : 40.78947368421053 %\n"
     ]
    }
   ],
   "source": [
    "clf = MultinomialNB(alpha=alpha[best_alpha])\n",
    "clf.fit(train_x_onehotcoding, train_y)\n",
    "sig_clf = CalibratedClassifierCV(clf, method=\"sigmoid\")\n",
    "sig_clf.fit(train_x_onehotcoding, train_y)\n",
    "sig_clf_probs = sig_clf.predict_proba(cv_x_onehotcoding)\n",
    "# to avoid rounding error while multiplying probabilites we use log-probability estimates\n",
    "print(\"Log Loss :\",log_loss(cv_y, sig_clf_probs))\n",
    "print(\"Number of missclassified point :\", (np.count_nonzero((sig_clf.predict(cv_x_onehotcoding)- cv_y))/cv_y.shape[0])*100,'%')"
   ]
  },
  {
   "cell_type": "markdown",
   "id": "87c36727",
   "metadata": {},
   "source": [
    "### the percentage of miscalssified points comes to be around 37%"
   ]
  },
  {
   "cell_type": "markdown",
   "id": "5dd88fb0",
   "metadata": {},
   "source": [
    "# Logistic regression with class balancing"
   ]
  },
  {
   "cell_type": "code",
   "execution_count": 54,
   "id": "8ea8db9b",
   "metadata": {},
   "outputs": [
    {
     "name": "stdout",
     "output_type": "stream",
     "text": [
      "for alpha = 1e-06\n",
      "Log Loss : 1.3597724542592624\n",
      "for alpha = 1e-05\n",
      "Log Loss : 1.303215749826288\n",
      "for alpha = 0.0001\n",
      "Log Loss : 1.1351555683931378\n",
      "for alpha = 0.001\n",
      "Log Loss : 1.097057130206378\n",
      "for alpha = 0.01\n",
      "Log Loss : 1.1629475033114938\n",
      "for alpha = 0.1\n",
      "Log Loss : 1.4695383713105867\n",
      "for alpha = 1\n",
      "Log Loss : 1.6986630227657475\n",
      "for alpha = 10\n",
      "Log Loss : 1.7278738535977112\n",
      "for alpha = 100\n",
      "Log Loss : 1.7309925135848507\n",
      "For values of best alpha =  0.001 The train log loss is: 0.534857827677622\n",
      "For values of best alpha =  0.001 The cross validation log loss is: 1.097057130206378\n",
      "For values of best alpha =  0.001 The test log loss is: 1.1022289208203107\n"
     ]
    }
   ],
   "source": [
    "alpha = [10 ** x for x in range(-6, 3)]\n",
    "cv_log_error_array = []\n",
    "for i in alpha:\n",
    "    print(\"for alpha =\", i)\n",
    "    clf = SGDClassifier(class_weight = 'balanced', alpha=i, penalty='l2', loss='log', random_state=42)\n",
    "    clf.fit(train_x_onehotcoding, train_y)\n",
    "    sig_clf = CalibratedClassifierCV(clf, method=\"sigmoid\")\n",
    "    sig_clf.fit(train_x_onehotcoding, train_y)\n",
    "    sig_clf_probs = sig_clf.predict_proba(cv_x_onehotcoding)\n",
    "    cv_log_error_array.append(log_loss(cv_y, sig_clf_probs, labels=clf.classes_, eps=1e-15))\n",
    "    # to avoid rounding error while multiplying probabilites we use log-probability estimates\n",
    "    print(\"Log Loss :\",log_loss(cv_y, sig_clf_probs)) \n",
    "\n",
    "\n",
    "best_alpha = np.argmin(cv_log_error_array)\n",
    "clf = SGDClassifier(class_weight='balanced', alpha=alpha[best_alpha], penalty='l2', loss='log', random_state=42)\n",
    "clf.fit(train_x_onehotcoding, train_y)\n",
    "sig_clf = CalibratedClassifierCV(clf, method=\"sigmoid\")\n",
    "sig_clf.fit(train_x_onehotcoding, train_y)\n",
    "\n",
    "predict_y = sig_clf.predict_proba(train_x_onehotcoding)\n",
    "print('For values of best alpha = ', alpha[best_alpha], \"The train log loss is:\",log_loss(y_train, predict_y, labels=clf.classes_, eps=1e-15))\n",
    "predict_y = sig_clf.predict_proba(cv_x_onehotcoding)\n",
    "print('For values of best alpha = ', alpha[best_alpha], \"The cross validation log loss is:\",log_loss(y_cv, predict_y, labels=clf.classes_, eps=1e-15))\n",
    "predict_y = sig_clf.predict_proba(test_x_onehotcoding)\n",
    "print('For values of best alpha = ', alpha[best_alpha], \"The test log loss is:\",log_loss(y_test, predict_y, labels=clf.classes_, eps=1e-15))"
   ]
  },
  {
   "cell_type": "code",
   "execution_count": 56,
   "id": "768e7a23",
   "metadata": {},
   "outputs": [
    {
     "name": "stdout",
     "output_type": "stream",
     "text": [
      "for best value of alpha: 0.001 the misclassified percentile of points is : 33.83458646616541%\n"
     ]
    }
   ],
   "source": [
    "## percentage of misclassified points\n",
    "\n",
    "clf = SGDClassifier(class_weight = 'balanced' , alpha = alpha[best_alpha] , loss = 'log' , penalty = 'l2' , random_state = 40)\n",
    "clf.fit(train_x_onehotcoding, train_y)\n",
    "sig_clf = CalibratedClassifierCV(clf, method=\"sigmoid\")\n",
    "sig_clf.fit(train_x_onehotcoding, train_y)\n",
    "pred = sig_clf.predict(cv_x_onehotcoding)\n",
    "sig_clf_probs = sig_clf.predict_proba(cv_x_onehotcoding)\n",
    "\n",
    "print('for best value of alpha: {} the misclassified percentile of points is : {}%'.format((alpha[best_alpha]),(np.count_nonzero((pred - cv_y))/cv_y.shape[0])*100))\n",
    "\n",
    "\n"
   ]
  },
  {
   "cell_type": "markdown",
   "id": "aed74715",
   "metadata": {},
   "source": [
    "### the best result so far is given by logistic regression with class balancing"
   ]
  },
  {
   "cell_type": "markdown",
   "id": "df5597f5",
   "metadata": {},
   "source": [
    "### Now I'll do logistic regression without class balacing just out of curiosity"
   ]
  },
  {
   "cell_type": "code",
   "execution_count": 59,
   "id": "9fdd010e",
   "metadata": {},
   "outputs": [
    {
     "name": "stdout",
     "output_type": "stream",
     "text": [
      "for alpha = 1e-06\n",
      "Log Loss : 1.3185099027082166\n",
      "for alpha = 1e-05\n",
      "Log Loss : 1.2765335094751156\n",
      "for alpha = 0.0001\n",
      "Log Loss : 1.1615655094952646\n",
      "for alpha = 0.001\n",
      "Log Loss : 1.1119714615220835\n",
      "for alpha = 0.01\n",
      "Log Loss : 1.217751628782019\n",
      "for alpha = 0.1\n",
      "Log Loss : 1.3657657074395213\n",
      "for alpha = 1\n",
      "Log Loss : 1.575217367696662\n",
      "for alpha = 10\n",
      "Log Loss : 1.6145726484469571\n",
      "for alpha = 100\n",
      "Log Loss : 1.6190088745207312\n",
      "For values of best alpha =  0.001 The train log loss is: 0.534857827677622\n",
      "For values of best alpha =  0.001 The cross validation log loss is: 1.097057130206378\n",
      "For values of best alpha =  0.001 The test log loss is: 1.1022289208203107\n"
     ]
    }
   ],
   "source": [
    "alpha = [10 ** x for x in range(-6, 3)]\n",
    "cv_log_error_array = []\n",
    "for i in alpha:\n",
    "    print(\"for alpha =\", i)\n",
    "    clf = SGDClassifier(alpha=i, penalty='l2', loss='log', random_state=42)\n",
    "    clf.fit(train_x_onehotcoding, train_y)\n",
    "    sig_clf = CalibratedClassifierCV(clf, method=\"sigmoid\")\n",
    "    sig_clf.fit(train_x_onehotcoding, train_y)\n",
    "    sig_clf_probs = sig_clf.predict_proba(cv_x_onehotcoding)\n",
    "    cv_log_error_array.append(log_loss(cv_y, sig_clf_probs, labels=clf.classes_, eps=1e-15))\n",
    "    # to avoid rounding error while multiplying probabilites we use log-probability estimates\n",
    "    print(\"Log Loss :\",log_loss(cv_y, sig_clf_probs)) \n",
    "\n",
    "\n",
    "best_alpha = np.argmin(cv_log_error_array)\n",
    "clf = SGDClassifier(class_weight='balanced', alpha=alpha[best_alpha], penalty='l2', loss='log', random_state=42)\n",
    "clf.fit(train_x_onehotcoding, train_y)\n",
    "sig_clf = CalibratedClassifierCV(clf, method=\"sigmoid\")\n",
    "sig_clf.fit(train_x_onehotcoding, train_y)\n",
    "\n",
    "predict_y = sig_clf.predict_proba(train_x_onehotcoding)\n",
    "print('For values of best alpha = ', alpha[best_alpha], \"The train log loss is:\",log_loss(y_train, predict_y, labels=clf.classes_, eps=1e-15))\n",
    "predict_y = sig_clf.predict_proba(cv_x_onehotcoding)\n",
    "print('For values of best alpha = ', alpha[best_alpha], \"The cross validation log loss is:\",log_loss(y_cv, predict_y, labels=clf.classes_, eps=1e-15))\n",
    "predict_y = sig_clf.predict_proba(test_x_onehotcoding)\n",
    "print('For values of best alpha = ', alpha[best_alpha], \"The test log loss is:\",log_loss(y_test, predict_y, labels=clf.classes_, eps=1e-15))"
   ]
  },
  {
   "cell_type": "code",
   "execution_count": 61,
   "id": "2285bc14",
   "metadata": {},
   "outputs": [
    {
     "name": "stdout",
     "output_type": "stream",
     "text": [
      "for best value of alpha: 0.001 the misclassified percentile of points is : 34.58646616541353%\n"
     ]
    }
   ],
   "source": [
    "clf = SGDClassifier( alpha = alpha[best_alpha] , loss = 'log' , penalty = 'l2' , random_state = 40)\n",
    "clf.fit(train_x_onehotcoding, train_y)\n",
    "sig_clf = CalibratedClassifierCV(clf, method=\"sigmoid\")\n",
    "sig_clf.fit(train_x_onehotcoding, train_y)\n",
    "pred = sig_clf.predict(cv_x_onehotcoding)\n",
    "sig_clf_probs = sig_clf.predict_proba(cv_x_onehotcoding)\n",
    "\n",
    "print('for best value of alpha: {} the misclassified percentile of points is : {}%'.format((alpha[best_alpha]),(np.count_nonzero((pred - cv_y))/cv_y.shape[0])*100))\n"
   ]
  },
  {
   "cell_type": "markdown",
   "id": "61afd42d",
   "metadata": {},
   "source": [
    "##### It performed slightly worse than the balanced Logistic regression but it has more misclassified points which can be really Catostraphic in medical fields\n"
   ]
  },
  {
   "cell_type": "markdown",
   "id": "de14678b",
   "metadata": {},
   "source": [
    "## Trying out linear SVM now"
   ]
  },
  {
   "cell_type": "code",
   "execution_count": 62,
   "id": "4e4a8365",
   "metadata": {},
   "outputs": [
    {
     "name": "stdout",
     "output_type": "stream",
     "text": [
      "for C = 1e-05\n",
      "Log Loss : 1.3424455990108595\n",
      "for C = 0.0001\n",
      "Log Loss : 1.224845697032574\n",
      "for C = 0.001\n",
      "Log Loss : 1.1223013176868444\n",
      "for C = 0.01\n",
      "Log Loss : 1.1305936243423438\n",
      "for C = 0.1\n",
      "Log Loss : 1.4190243628533448\n",
      "for C = 1\n",
      "Log Loss : 1.7161254776891934\n",
      "for C = 10\n",
      "Log Loss : 1.7315351569129864\n",
      "for C = 100\n",
      "Log Loss : 1.7315352098546624\n",
      "For values of best alpha =  0.001 The train log loss is: 0.551369404565777\n",
      "For values of best alpha =  0.001 The cross validation log loss is: 1.1223013176868444\n",
      "For values of best alpha =  0.001 The test log loss is: 1.1779159481463086\n"
     ]
    }
   ],
   "source": [
    "alpha = [10 ** x for x in range(-5, 3)]\n",
    "cv_log_error_array = []\n",
    "for i in alpha:\n",
    "    print(\"for C =\", i)\n",
    "#     clf = SVC(C=i,kernel='linear',probability=True, class_weight='balanced')\n",
    "    clf = SGDClassifier( class_weight='balanced', alpha=i, penalty='l2', loss='hinge', random_state=42)\n",
    "    clf.fit(train_x_onehotcoding, train_y)\n",
    "    sig_clf = CalibratedClassifierCV(clf, method=\"sigmoid\")\n",
    "    sig_clf.fit(train_x_onehotcoding, train_y)\n",
    "    sig_clf_probs = sig_clf.predict_proba(cv_x_onehotcoding)\n",
    "    cv_log_error_array.append(log_loss(cv_y, sig_clf_probs, labels=clf.classes_, eps=1e-15))\n",
    "    print(\"Log Loss :\",log_loss(cv_y, sig_clf_probs)) \n",
    "\n",
    "\n",
    "\n",
    "best_alpha = np.argmin(cv_log_error_array)\n",
    "# clf = SVC(C=i,kernel='linear',probability=True, class_weight='balanced')\n",
    "clf = SGDClassifier(class_weight='balanced', alpha=alpha[best_alpha], penalty='l2', loss='hinge', random_state=42)\n",
    "clf.fit(train_x_onehotcoding, train_y)\n",
    "sig_clf = CalibratedClassifierCV(clf, method=\"sigmoid\")\n",
    "sig_clf.fit(train_x_onehotcoding, train_y)\n",
    "\n",
    "predict_y = sig_clf.predict_proba(train_x_onehotcoding)\n",
    "print('For values of best alpha = ', alpha[best_alpha], \"The train log loss is:\",log_loss(y_train, predict_y, labels=clf.classes_, eps=1e-15))\n",
    "predict_y = sig_clf.predict_proba(cv_x_onehotcoding)\n",
    "print('For values of best alpha = ', alpha[best_alpha], \"The cross validation log loss is:\",log_loss(y_cv, predict_y, labels=clf.classes_, eps=1e-15))\n",
    "predict_y = sig_clf.predict_proba(test_x_onehotcoding)\n",
    "print('For values of best alpha = ', alpha[best_alpha], \"The test log loss is:\",log_loss(y_test, predict_y, labels=clf.classes_, eps=1e-15))"
   ]
  },
  {
   "cell_type": "code",
   "execution_count": 65,
   "id": "671721bc",
   "metadata": {},
   "outputs": [
    {
     "name": "stdout",
     "output_type": "stream",
     "text": [
      "the percentile of misclassified points are : 0.35526315789473684\n"
     ]
    }
   ],
   "source": [
    "clf = SGDClassifier(alpha=alpha[best_alpha], penalty='l2', loss='hinge', random_state=42,class_weight='balanced')\n",
    "clf.fit(train_x_onehotcoding, train_y)\n",
    "sig_clf = CalibratedClassifierCV(clf, method=\"sigmoid\")\n",
    "sig_clf.fit(train_x_onehotcoding, train_y)\n",
    "pred = sig_clf.predict(cv_x_onehotcoding)\n",
    "\n",
    "print('the percentile of misclassified points are :' , np.count_nonzero(pred - cv_y) / cv_y.shape[0])\n"
   ]
  },
  {
   "cell_type": "markdown",
   "id": "f919690f",
   "metadata": {},
   "source": [
    "#### It performs almost similar to the logistic regression"
   ]
  },
  {
   "cell_type": "markdown",
   "id": "648a4f32",
   "metadata": {},
   "source": [
    "### Random forest"
   ]
  },
  {
   "cell_type": "code",
   "execution_count": 66,
   "id": "9157307d",
   "metadata": {},
   "outputs": [
    {
     "name": "stdout",
     "output_type": "stream",
     "text": [
      "for n_estimators = 100 and max depth =  5\n",
      "Log Loss : 1.2710566713309919\n",
      "for n_estimators = 100 and max depth =  10\n",
      "Log Loss : 1.1907642780731347\n",
      "for n_estimators = 200 and max depth =  5\n",
      "Log Loss : 1.2668675045237456\n",
      "for n_estimators = 200 and max depth =  10\n",
      "Log Loss : 1.184073785955656\n",
      "for n_estimators = 500 and max depth =  5\n",
      "Log Loss : 1.2601880880665308\n",
      "for n_estimators = 500 and max depth =  10\n",
      "Log Loss : 1.1803254621234014\n",
      "for n_estimators = 1000 and max depth =  5\n",
      "Log Loss : 1.250519475959174\n",
      "for n_estimators = 1000 and max depth =  10\n",
      "Log Loss : 1.176866866354066\n",
      "for n_estimators = 2000 and max depth =  5\n",
      "Log Loss : 1.2484831650464039\n",
      "for n_estimators = 2000 and max depth =  10\n",
      "Log Loss : 1.1756238823675478\n",
      "For values of best estimator =  2000 The train log loss is: 0.6844117354234104\n",
      "For values of best estimator =  2000 The cross validation log loss is: 1.175623882367548\n",
      "For values of best estimator =  2000 The test log loss is: 1.183443396730818\n"
     ]
    }
   ],
   "source": [
    "alpha = [100,200,500,1000,2000]\n",
    "max_depth = [5, 10]\n",
    "cv_log_error_array = []\n",
    "\n",
    "for i in alpha:\n",
    "    for j in max_depth:\n",
    "        \n",
    "        print(\"for n_estimators =\", i,\"and max depth = \", j)\n",
    "        clf = RandomForestClassifier(n_estimators = i , max_depth = j , n_jobs = -1 , random_state = 42)\n",
    "        clf.fit(train_x_onehotcoding, train_y)\n",
    "        sig_clf = CalibratedClassifierCV(clf, method=\"sigmoid\")\n",
    "        sig_clf.fit(train_x_onehotcoding, train_y)\n",
    "        sig_clf_probs = sig_clf.predict_proba(cv_x_onehotcoding)\n",
    "        cv_log_error_array.append(log_loss(cv_y, sig_clf_probs, labels=clf.classes_, eps=1e-15))\n",
    "        print(\"Log Loss :\",log_loss(cv_y, sig_clf_probs)) \n",
    "        \n",
    "        \n",
    "\n",
    "best_alpha = np.argmin(cv_log_error_array)\n",
    "clf = RandomForestClassifier(n_estimators=alpha[int(best_alpha/2)], criterion='gini', max_depth=max_depth[int(best_alpha%2)], random_state=42, n_jobs=-1)\n",
    "clf.fit(train_x_onehotcoding, train_y)\n",
    "sig_clf = CalibratedClassifierCV(clf, method=\"sigmoid\")\n",
    "sig_clf.fit(train_x_onehotcoding, train_y)\n",
    "\n",
    "predict_y = sig_clf.predict_proba(train_x_onehotcoding)\n",
    "print('For values of best estimator = ', alpha[int(best_alpha/2)], \"The train log loss is:\",log_loss(y_train, predict_y, labels=clf.classes_, eps=1e-15))\n",
    "predict_y = sig_clf.predict_proba(cv_x_onehotcoding)\n",
    "print('For values of best estimator = ', alpha[int(best_alpha/2)], \"The cross validation log loss is:\",log_loss(y_cv, predict_y, labels=clf.classes_, eps=1e-15))\n",
    "predict_y = sig_clf.predict_proba(test_x_onehotcoding)\n",
    "print('For values of best estimator = ', alpha[int(best_alpha/2)], \"The test log loss is:\",log_loss(y_test, predict_y, labels=clf.classes_, eps=1e-15))\n",
    "        \n",
    "        \n",
    "        "
   ]
  },
  {
   "cell_type": "code",
   "execution_count": null,
   "id": "21655ac8",
   "metadata": {},
   "outputs": [],
   "source": []
  }
 ],
 "metadata": {
  "kernelspec": {
   "display_name": "Python 3",
   "language": "python",
   "name": "python3"
  },
  "language_info": {
   "codemirror_mode": {
    "name": "ipython",
    "version": 3
   },
   "file_extension": ".py",
   "mimetype": "text/x-python",
   "name": "python",
   "nbconvert_exporter": "python",
   "pygments_lexer": "ipython3",
   "version": "3.8.8"
  }
 },
 "nbformat": 4,
 "nbformat_minor": 5
}
